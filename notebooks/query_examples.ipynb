{
 "cells": [
  {
   "cell_type": "code",
   "execution_count": 1,
   "metadata": {},
   "outputs": [],
   "source": [
    "from pathlib import Path\n",
    "\n",
    "from utils import load_data"
   ]
  },
  {
   "cell_type": "code",
   "execution_count": 2,
   "metadata": {},
   "outputs": [],
   "source": [
    "# UniRef50 100k sample\n",
    "# output_directory = Path(\"../private/uniref50_051121_rnd100k\")\n",
    "\n",
    "# ProtGPT2 100k generated\n",
    "output_directory = Path(\"../private/protGPT2_100k_maxL150_minPPL72\")"
   ]
  },
  {
   "cell_type": "code",
   "execution_count": 3,
   "metadata": {},
   "outputs": [
    {
     "name": "stdout",
     "output_type": "stream",
     "text": [
      "These columns can be queried: header, sequence, length, disorder, disorder_categorical, disorder_average, disorder_count, disorder_percent, metal, metal_count, metal_percent, small, small_count, small_percent, nucleic, nucleic_count, nucleic_percent, conservation, conservation_categorical, conservation_high_count, conservation_high_percent, conservation_low_count, conservation_low_percent, dssp3, helix_count, helix_percent, strand_count, strand_percent, helix_four_count, helix_four_percent, BPO_reference, BPO_terms, BPO_distance, CCO_reference, CCO_terms, CCO_distance, MFO_reference, MFO_terms, MFO_distance, subcellular_location, CATH_reference, CATH_superfamily, CATH_distance, transmembrane, signal_residue_count, signal_residue_percent, transmembrane_helix_count, transmembrane_helix_percent, transmembrane_strand_count, transmembrane_strand_percent\n"
     ]
    }
   ],
   "source": [
    "data = load_data(output_directory)\n",
    "print(f\"These columns can be queried: {', '.join(data.columns.values)}\")"
   ]
  },
  {
   "cell_type": "markdown",
   "metadata": {},
   "source": [
    "# Query 1\n",
    "### Average length sequences with at least 30% helical content that are likely part of the outer cell membrane according to the Cellular Compartment Ontology (CCO)\n",
    "\n",
    "I want sequences:\n",
    "- longer than 200 residues and shorter than 400\n",
    "- with more than 30% of residues involved in a helix\n",
    "- annotated with the CCO `GO:0045203` term (integral component of cell outer membrane)"
   ]
  },
  {
   "cell_type": "code",
   "execution_count": 7,
   "metadata": {},
   "outputs": [
    {
     "name": "stdout",
     "output_type": "stream",
     "text": [
      "Header: >seq25232, L=234, ppl=71.688\n",
      "Helical content: 32.91%\n",
      "Distance to CCO annotated protein: 1.271\n",
      "View on EMPP: https://embed.predictprotein.org/#/MDKTSPENKKRLFLEELEARLVKDLEAVIRENFPVTRVDLSSRFVPLNHEDHNPKKCTMIGNFVSSFKDNDYPVAYVVLSRILPHFCGQRLFSNMGGNIEKILFSSQERVEVSEIFNASQKPNAIIFLDACHSGNMFRDLKKTDNVYILTGCSSAQYSWKASIHGYFTNELLHSIYSGLENTQGDTNNDGKITVSELHTYVKKTVIAKTKKMQTPQNWRYGIEGDFVLGECSIK\n",
      "---------------\n"
     ]
    }
   ],
   "source": [
    "for sequence in data.query(\n",
    "    '''\n",
    "    length > 200 and length < 400 and \\\n",
    "    helix_percent > 0.3 and \\\n",
    "    CCO_terms.str.contains(\"GO:0072559\")\n",
    "    '''\n",
    ").to_records():\n",
    "    print(f\"Header: {sequence.header}\")\n",
    "    print(f\"Helical content: {sequence.helix_percent*100:0.2f}%\")\n",
    "    print(f\"Distance to CCO annotated protein: {sequence.CCO_distance}\")\n",
    "    print(f\"View on EMPP: https://embed.predictprotein.org/#/{sequence.sequence}\")\n",
    "    print(\"---------------\")"
   ]
  },
  {
   "cell_type": "markdown",
   "metadata": {},
   "source": [
    "# Query 2\n",
    "### Short sequences with transmembrane strands binding to small molecules\n",
    "\n",
    "I want sequences:\n",
    "- shorter than 100 residues\n",
    "- with any transmembrane strand content\n",
    "- binding to small molecules\n",
    "- ordered by sequences longest sequences with most transmembrane and small molecule binding content"
   ]
  },
  {
   "cell_type": "code",
   "execution_count": 5,
   "metadata": {},
   "outputs": [
    {
     "name": "stdout",
     "output_type": "stream",
     "text": [
      "Header: >seq86311, L=99, ppl=61.625\n",
      "Sequence length: 99\n",
      "Transmembrane strand content: 47.47%\n",
      "Small-molecule binding content: 8.08%\n",
      "View on EMPP: https://embed.predictprotein.org/#/MWGEERTAIGAASAYHLKGGWARSWIGYSYNKYRDSTTWDFDQNRHYVLAGLDFDLSRAWTLQTGINYTRGTYDAETPFYAADHNTQNARGSVGIAYRF\n",
      "---------------\n",
      "Header: >seq63070, L=98, ppl=58.219\n",
      "Sequence length: 98\n",
      "Transmembrane strand content: 43.88%\n",
      "Small-molecule binding content: 4.08%\n",
      "View on EMPP: https://embed.predictprotein.org/#/MAEVGLTYALPKQFTLNPSVGWQHQLNDTSPSALFSGGAGQEFTVNTTGMAPDSAVFGLGGSYTSSNGTDVSLGYRGELATDASDNSVSGLFTVRRPW\n",
      "---------------\n",
      "Header: >seq41706, L=94, ppl=48.688\n",
      "Sequence length: 94\n",
      "Transmembrane strand content: 30.85%\n",
      "Small-molecule binding content: 18.09%\n",
      "View on EMPP: https://embed.predictprotein.org/#/MKKLFLGLALVAFATTAQAQQRVKFSGGLILPMSDVDYGDFSSKNNVGAGVGVNFDVGLNDKFALGASVAYNYFGAKKDVTPKGGEDAFKIDYK\n",
      "---------------\n",
      "Header: >seq51154, L=90, ppl=43.344\n",
      "Sequence length: 90\n",
      "Transmembrane strand content: 35.56%\n",
      "Small-molecule binding content: 17.78%\n",
      "View on EMPP: https://embed.predictprotein.org/#/MGGGFGTLGTPNYIQATSANTSGQYTTHFRPTYLVDASAGYTWKVGSNPVELGFTATNLTNHVYRTSYSGRLNMAPGAPRSVFLTLRAGW\n",
      "---------------\n",
      "Header: >seq64632, L=89, ppl=67.938\n",
      "Sequence length: 89\n",
      "Transmembrane strand content: 42.70%\n",
      "Small-molecule binding content: 10.11%\n",
      "View on EMPP: https://embed.predictprotein.org/#/MWLPTRQVRPFVGLAYVSRFRVRNVERDIPGTFRFHADPAARRPLPSLQGGIEFDLQDKVTVSAGYESVYTGDHAARANKARVTVGMSF\n",
      "---------------\n",
      "Header: >seq50206, L=87, ppl=61.281\n",
      "Sequence length: 87\n",
      "Transmembrane strand content: 28.74%\n",
      "Small-molecule binding content: 20.69%\n",
      "View on EMPP: https://embed.predictprotein.org/#/MKKFLLIALAMSVFSASASAGPWQGFYAGVGGGWAGGDSCNHNHDCELNSLTEGFLIGGGLEGGHNIYRMAVEGELGLSTLGDNDCD\n",
      "---------------\n",
      "Header: >seq64859, L=78, ppl=59.656\n",
      "Sequence length: 78\n",
      "Transmembrane strand content: 32.05%\n",
      "Small-molecule binding content: 10.26%\n",
      "View on EMPP: https://embed.predictprotein.org/#/MLHLSVQKDLGGTVSFRLNAFNLLDNASPTRTAVVGPSPNNPQSLGNYYGMFRGRTVSLGVKYNFNTATVAQPFQRGF\n",
      "---------------\n",
      "Header: >seq35614, L=77, ppl=51.688\n",
      "Sequence length: 77\n",
      "Transmembrane strand content: 35.06%\n",
      "Small-molecule binding content: 20.78%\n",
      "View on EMPP: https://embed.predictprotein.org/#/MSDVKQPRDLTYPAIDTWIAYEFAEGITRNLDASVRLDVFNLFNKRNYNPYSLNSQTANREYPQTGRAIGTTLRFTF\n",
      "---------------\n",
      "Header: >seq16862, L=76, ppl=56.062\n",
      "Sequence length: 76\n",
      "Transmembrane strand content: 42.11%\n",
      "Small-molecule binding content: 22.37%\n",
      "View on EMPP: https://embed.predictprotein.org/#/MHWSYNRDSKQDGPAVPVGNLRASIGWQATERVKLGAQIDNLTNKEYYQWPQFNSGDVFTRPNAPRTFRASLRYAW\n",
      "---------------\n",
      "Header: >seq96931, L=73, ppl=47.000\n",
      "Sequence length: 73\n",
      "Transmembrane strand content: 13.70%\n",
      "Small-molecule binding content: 8.22%\n",
      "View on EMPP: https://embed.predictprotein.org/#/LIGGWQWIGTFVARTGQPFTMTVLGGSSTARADQVGADRPNLVAAGRIPQNQYFDASAAVLPRQLLEVPFSYG\n",
      "---------------\n",
      "Header: >seq63623, L=71, ppl=66.125\n",
      "Sequence length: 71\n",
      "Transmembrane strand content: 7.04%\n",
      "Small-molecule binding content: 4.23%\n",
      "View on EMPP: https://embed.predictprotein.org/#/EVGPVMVAPNQVISTKANGDAVGGKVKVHTGSFGVKGGLTIGPVSVKADVTTGKSKNQGASVGVGVGIHLH\n",
      "---------------\n",
      "Header: >seq34420, L=70, ppl=60.312\n",
      "Sequence length: 70\n",
      "Transmembrane strand content: 40.00%\n",
      "Small-molecule binding content: 25.71%\n",
      "View on EMPP: https://embed.predictprotein.org/#/MDRNQNYEITGRYAFNTTQGRLEWGVSLANVFDKTYLATTATNLRNNTPNNPVYPFNGGRLIVAGASAKF\n",
      "---------------\n",
      "Header: >seq64178, L=70, ppl=60.312\n",
      "Sequence length: 70\n",
      "Transmembrane strand content: 31.43%\n",
      "Small-molecule binding content: 20.00%\n",
      "View on EMPP: https://embed.predictprotein.org/#/MNTSEALRRDRHFISGSRFFDGRWFTAGLAAENLTDEVYYQSASATSDSRTEVIYNNPGPRMWLGFKLTY\n",
      "---------------\n",
      "Header: >seq17574, L=68, ppl=45.125\n",
      "Sequence length: 68\n",
      "Transmembrane strand content: 42.65%\n",
      "Small-molecule binding content: 5.88%\n",
      "View on EMPP: https://embed.predictprotein.org/#/MTISHGFTTIGLTGRVPVRGCFIEPYARVDAAWVHVDAESFAEHGGGAGLAVDGQDTADTFVTLGARV\n",
      "---------------\n",
      "Header: >seq68898, L=64, ppl=32.188\n",
      "Sequence length: 64\n",
      "Transmembrane strand content: 42.19%\n",
      "Small-molecule binding content: 20.31%\n",
      "View on EMPP: https://embed.predictprotein.org/#/MPHFDLSAAYRLDDRWRVAGRVDNLLDTDYFEHPAADVFAADGTSNALNTTLPRTWSLGAEYRM\n",
      "---------------\n",
      "Header: >seq91084, L=62, ppl=64.688\n",
      "Sequence length: 62\n",
      "Transmembrane strand content: 64.52%\n",
      "Small-molecule binding content: 14.52%\n",
      "View on EMPP: https://embed.predictprotein.org/#/MTLGAGWRGYTNLGVAAESNDAGGPLAVGFGYRFVDADSHGALLTIGIDGPGALRAGIGFEW\n",
      "---------------\n",
      "Header: >seq76709, L=59, ppl=64.000\n",
      "Sequence length: 59\n",
      "Transmembrane strand content: 47.46%\n",
      "Small-molecule binding content: 22.03%\n",
      "View on EMPP: https://embed.predictprotein.org/#/GAGLFSTGLEGRWSNVQLRFAWSNIFNEAVVHQTTYRGFNNDPFFVRPFEINGAIRFSF\n",
      "---------------\n"
     ]
    }
   ],
   "source": [
    "filtering_order = ['length', 'transmembrane_strand_percent', 'small_percent']\n",
    "\n",
    "\n",
    "for sequence in data.query(\n",
    "    '''\n",
    "    length < 100 and \\\n",
    "    transmembrane_strand_count > 0 and \\\n",
    "    small_count > 0 \n",
    "    '''\n",
    ").sort_values(filtering_order, ascending=False).to_records():\n",
    "    print(f\"Header: {sequence.header}\")\n",
    "    print(f\"Sequence length: {sequence.length}\")\n",
    "    print(f\"Transmembrane strand content: {sequence.transmembrane_strand_percent*100:0.2f}%\")\n",
    "    print(f\"Small-molecule binding content: {sequence.small_percent*100:0.2f}%\")\n",
    "    print(f\"View on EMPP: https://embed.predictprotein.org/#/{sequence.sequence}\")\n",
    "    print(\"---------------\")"
   ]
  },
  {
   "cell_type": "code",
   "execution_count": null,
   "metadata": {},
   "outputs": [],
   "source": []
  }
 ],
 "metadata": {
  "kernelspec": {
   "display_name": "Python 3",
   "language": "python",
   "name": "python3"
  },
  "language_info": {
   "codemirror_mode": {
    "name": "ipython",
    "version": 3
   },
   "file_extension": ".py",
   "mimetype": "text/x-python",
   "name": "python",
   "nbconvert_exporter": "python",
   "pygments_lexer": "ipython3",
   "version": "3.6.8"
  }
 },
 "nbformat": 4,
 "nbformat_minor": 2
}
